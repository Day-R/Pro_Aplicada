{
  "nbformat": 4,
  "nbformat_minor": 0,
  "metadata": {
    "colab": {
      "provenance": [],
      "collapsed_sections": [],
      "authorship_tag": "ABX9TyODGF6yxeYsVneMCB6So6+o",
      "include_colab_link": true
    },
    "kernelspec": {
      "name": "python3",
      "display_name": "Python 3"
    },
    "language_info": {
      "name": "python"
    }
  },
  "cells": [
    {
      "cell_type": "markdown",
      "metadata": {
        "id": "view-in-github",
        "colab_type": "text"
      },
      "source": [
        "<a href=\"https://colab.research.google.com/github/Day-R/Pro_Aplicada/blob/main/Dict_pynb.ipynb\" target=\"_parent\"><img src=\"https://colab.research.google.com/assets/colab-badge.svg\" alt=\"Open In Colab\"/></a>"
      ]
    },
    {
      "cell_type": "code",
      "execution_count": null,
      "metadata": {
        "id": "AUCm4e1ySFAl"
      },
      "outputs": [],
      "source": [
        "Divisas={'Euro':'€','Dollar':'$','Yen':'¥'} \n",
        "Divisa=(input('Elija la divisa'))\n",
        "if Divisa.title() in Divisas:\n",
        "\n",
        "    print('la divisa tiene el simbolo', Divisas[Divisa.title()])\n",
        "else:\n",
        "\n",
        "    print('No esta La Divisa')\n",
        "\n",
        "\n"
      ]
    },
    {
      "cell_type": "code",
      "source": [
        "Estudiante={}\n",
        "\n",
        "Estudiante['Nombre']=input('Ingrese su nombre ' )\n",
        "Estudiante['Edad']=input('Ingrese su edad ' )\n",
        "Estudiante['Direccion']=input('Ingrese su direccion ' )\n",
        "Estudiante['Telefono']=input('Ingrese su telefono ' )\n",
        "\n",
        "print('su nombre es:' ,  Estudiante['Nombre'] ,\"\\n\" 'Su edad es: ', Estudiante['Edad'], \"\\n\" 'Su direccion es: ', Estudiante['Direccion'] , \"\\n\" 'su telefono es: ', Estudiante['Telefono'] )\n"
      ],
      "metadata": {
        "id": "DNnTZzoWe0BR"
      },
      "execution_count": null,
      "outputs": []
    },
    {
      "cell_type": "code",
      "source": [
        "Frutas={'Platano':1.35, 'Pera':0.80, 'Manzana':0.85, 'Naranja':0.70 }\n",
        "\n",
        "Fruta=(input('Elija la fruta ' ))\n",
        "\n",
        "if Fruta.title() in Frutas:\n",
        "  \n",
        "  Peso=float(input('cuantos kilos? ' ))\n",
        "  print('su precio es' , Frutas[Fruta.title()]*Peso)\n",
        "\n",
        "else:\n",
        "  print('No hay')\n"
      ],
      "metadata": {
        "id": "3KjqVV1Shc-s"
      },
      "execution_count": null,
      "outputs": []
    },
    {
      "cell_type": "code",
      "source": [
        "Compras={}\n",
        "Art=None\n",
        "Precio=0\n",
        "\n",
        "while True:\n",
        "  Art=input('Ingrese sus productos a comprar ')\n",
        "  if Art.lower() != 'Fin':\n",
        "     Precio=int(input('Ingrese sus productos a Precio'))\n",
        "     Compras[Art]=Precio \n",
        "  else:\n",
        "    break\n",
        "    \n",
        "Total_Compras=sum(list(Compras.values()))\n",
        "print(Compras)\n",
        "print('Su total es: ' , Total_Compras)"
      ],
      "metadata": {
        "id": "9qGLIhuEeElh"
      },
      "execution_count": null,
      "outputs": []
    },
    {
      "cell_type": "code",
      "source": [
        "from traitlets import default\n",
        "\n",
        "Clientes={}\n",
        "\n",
        "def create():\n",
        "  Cliente={}\n",
        "  Cliente['Nombre']=input('Ingrese el nombre del cliente: ')\n",
        "  Cedula=input('Ingrese la cedula del cliente: ')\n",
        "  Clientes[Cedula]=Cliente\n",
        "  Cliente['Direccion']=input('Ingrese la direcion: ')\n",
        "  Cliente['Telefono']=input('Ingrese el telefono: ')\n",
        "  Cliente['Correo']=input('Ingrese el correo: ')\n",
        "  val=input('Ingrese si es ´preferente o no: ')\n",
        "  if val.lower == 'si':\n",
        "    Cliente['Preferente']=True\n",
        "  else:\n",
        "    Cliente['Preferente']=False\n",
        "    Clientes[Cedula]=Cliente\n",
        "    print('Creado exitosamente')\n",
        "\n",
        "def delete():\n",
        "    Cedula=input('elija el cliente a eliminar')\n",
        "    Clientes.pop(Cedula)\n",
        "    print('Borrado exitosamente')\n",
        "    \n",
        "def show():\n",
        "  Cedula=input('Ingrese la cedula del cliente: ')\n",
        "  if Cedula in Clientes.keys():\n",
        "    print(Clientes,[Cedula])\n",
        "  else:\n",
        "    print('Cliente no existe')\n",
        "      \n",
        "def show_all():\n",
        "    for element in Clientes.keys():\n",
        "      print(Clientes[element])\n",
        "          \n",
        "def show_prefer():\n",
        "  Cliente=['Preferente']\n",
        "  print('el cliente preferente es: ', Cliente=['Preferente'])\n",
        "  \n",
        "def end():\n",
        "    print('Terminado')\n",
        "              \n",
        "switcher = {\n",
        "      1: create,\n",
        "      2: delete,\n",
        "      3: show, \n",
        "      4: show_all,\n",
        "      5: show_prefer,\n",
        "      6: end,\n",
        "      }\n",
        "                  \n",
        "                  \n",
        "                  \n",
        "def switch(day_w):\n",
        "    return switcher.get(day_w, default)()\n",
        "  \n",
        "while True:\n",
        "  opcion=int(input('ingrese una opcion\\n1.Crear cliente\\n2.Borrar cliente\\n3.Mostrar cliente\\n4.Mostrar todos los clientes\\n5.Mostrar clientes preferentes\\n6.Terminar\\n'))\n",
        "  switch(opcion)\n",
        "  if opcion == 6:\n",
        "   break\n",
        "\n",
        "\n"
      ],
      "metadata": {
        "id": "0GnUgmr2kkgR"
      },
      "execution_count": null,
      "outputs": []
    }
  ]
}