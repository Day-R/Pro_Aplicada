{
  "nbformat": 4,
  "nbformat_minor": 0,
  "metadata": {
    "colab": {
      "provenance": [],
      "authorship_tag": "ABX9TyNEbcxw7WPG3vbKG0ELr4l3",
      "include_colab_link": true
    },
    "kernelspec": {
      "name": "python3",
      "display_name": "Python 3"
    },
    "language_info": {
      "name": "python"
    }
  },
  "cells": [
    {
      "cell_type": "markdown",
      "metadata": {
        "id": "view-in-github",
        "colab_type": "text"
      },
      "source": [
        "<a href=\"https://colab.research.google.com/github/Day-R/Pro_Aplicada/blob/main/dayR.ipynb\" target=\"_parent\"><img src=\"https://colab.research.google.com/assets/colab-badge.svg\" alt=\"Open In Colab\"/></a>"
      ]
    },
    {
      "cell_type": "code",
      "source": [
        "print(\"hello word\")"
      ],
      "metadata": {
        "colab": {
          "base_uri": "https://localhost:8080/"
        },
        "id": "nTvH4Mp8RGOn",
        "outputId": "0ba22869-f080-4ac1-e38a-f24c80bfb6c6"
      },
      "execution_count": null,
      "outputs": [
        {
          "output_type": "stream",
          "name": "stdout",
          "text": [
            "hello word\n"
          ]
        }
      ]
    },
    {
      "cell_type": "code",
      "source": [
        "name= \"Dayana\"\n",
        "\n",
        "print(\"Hola\", name)"
      ],
      "metadata": {
        "colab": {
          "base_uri": "https://localhost:8080/"
        },
        "id": "7X7XL71tSiUw",
        "outputId": "622f9c3b-309e-486f-caa2-1fc40ca0b6c1"
      },
      "execution_count": null,
      "outputs": [
        {
          "output_type": "stream",
          "name": "stdout",
          "text": [
            "Hola Dayana\n"
          ]
        }
      ]
    },
    {
      "cell_type": "code",
      "source": [
        "a=10\n",
        "b=2\n",
        "\n",
        "print(\"suma\" , a+b)\n",
        "print(\"resta\", a-b)\n",
        "print(\"multiplicacion\", a*b)\n",
        "print(\"division\", a/b)\n",
        "print(\"mod\", a%b)\n",
        "print(\"cociente\", a//b)\n",
        "print(\"radiecacion\", a**(1/b))"
      ],
      "metadata": {
        "colab": {
          "base_uri": "https://localhost:8080/"
        },
        "id": "Wh7atJMSSvPe",
        "outputId": "f8813e19-17ba-4b70-d9ab-8d7f347a0961"
      },
      "execution_count": null,
      "outputs": [
        {
          "output_type": "stream",
          "name": "stdout",
          "text": [
            "suma 12\n",
            "resta 8\n",
            "multiplicacion 20\n",
            "division 5.0\n",
            "mod 0\n",
            "cociente 5\n",
            "radiecacion 3.1622776601683795\n"
          ]
        }
      ]
    },
    {
      "cell_type": "code",
      "source": [
        "nombre=input (\"ingresar nombre\")\n",
        "print (\"hola\", nombre)\n"
      ],
      "metadata": {
        "id": "ZLWA4eEqUUn2",
        "colab": {
          "base_uri": "https://localhost:8080/"
        },
        "outputId": "4417bd25-8f0a-4d4c-a76c-4f52805476d5"
      },
      "execution_count": null,
      "outputs": [
        {
          "output_type": "stream",
          "name": "stdout",
          "text": [
            "ingresar nombrepedro\n",
            "hola pedro\n"
          ]
        }
      ]
    },
    {
      "cell_type": "code",
      "source": [
        "imc=24\n",
        "altura= float (input(\" por favor ingrese su altura \"))\n",
        "peso=(altura**2*imc)\n",
        "pesso= round(peso,0)\n",
        "\n",
        "print(\"su peso ideal es:\",pesso)\n",
        "\n",
        "\n",
        "      "
      ],
      "metadata": {
        "colab": {
          "base_uri": "https://localhost:8080/"
        },
        "id": "uxYhAlP3Ic5q",
        "outputId": "aa6c8f4d-9f8a-4a75-80c2-13094144ea66"
      },
      "execution_count": null,
      "outputs": [
        {
          "output_type": "stream",
          "name": "stdout",
          "text": [
            " por favor ingrese su altura 1.60\n",
            "su peso ideal es: 61.0\n"
          ]
        }
      ]
    },
    {
      "cell_type": "code",
      "source": [
        "usuario=int (input(\"ingrese primer numero \"))\n",
        "usuario2=int(input(\"ingrese segundo numero \"))\n",
        "\n",
        "if (usuario < usuario2):\n",
        "\n",
        " for i in range(usuario,usuario2):\n",
        "    print (i)\n",
        "else:\n",
        "  print(\"error\")\n",
        "\n",
        "\n"
      ],
      "metadata": {
        "id": "wy5JAjz4QJy4",
        "colab": {
          "base_uri": "https://localhost:8080/"
        },
        "outputId": "43255e19-a41b-491c-d660-b13481cf09cc"
      },
      "execution_count": 14,
      "outputs": [
        {
          "output_type": "stream",
          "name": "stdout",
          "text": [
            "ingrese primer numero 56\n",
            "ingrese segundo numero 66\n",
            "56\n",
            "57\n",
            "58\n",
            "59\n",
            "60\n",
            "61\n",
            "62\n",
            "63\n",
            "64\n",
            "65\n"
          ]
        }
      ]
    },
    {
      "cell_type": "code",
      "source": [
        "from datetime import datetime, timedelta\n",
        "from time import strftime\n",
        "\n",
        "now= datetime.now()\n",
        "now_less_5hours=now #timedelta(Hours=5)\n",
        "\n",
        "current_time=now_less_5hours.strftime(\"%H:%H:%S\")\n",
        "\n",
        "print(\"current time=\", current_time)\n",
        "print(now_less_5hours.isoweekday())\n"
      ],
      "metadata": {
        "colab": {
          "base_uri": "https://localhost:8080/"
        },
        "id": "vtimYWuJWvoK",
        "outputId": "8ac0a2af-5b2f-43f4-926c-31898a8525e1"
      },
      "execution_count": 6,
      "outputs": [
        {
          "output_type": "stream",
          "name": "stdout",
          "text": [
            "current time= 23:23:02\n",
            "4\n"
          ]
        }
      ]
    },
    {
      "cell_type": "code",
      "source": [
        "Passward= \" 123789 \"\n",
        "cont=1\n",
        "\n",
        "Usuario=input(\"ingrar contraseña\")\n",
        "\n",
        "while Passward!=Usuario and cont<=3:\n",
        "   \n",
        "   Usuario=input(\"ingrar contraseña\")\n",
        "\n",
        "   cont=cont+1\n",
        "  \n",
        "if cont<=3:\n",
        "\n",
        "     print(\"Sesion iniciada\")\n",
        "\n",
        "else:\n",
        "\n",
        "  print(\"contraseña incorrecta\")\n",
        "\n",
        "\n"
      ],
      "metadata": {
        "colab": {
          "base_uri": "https://localhost:8080/"
        },
        "id": "9c2PggULYk4F",
        "outputId": "b0e5566e-a5ca-4879-d2a0-c29d7429d109"
      },
      "execution_count": 12,
      "outputs": [
        {
          "output_type": "stream",
          "name": "stdout",
          "text": [
            "ingrar contraseña123789\n",
            "Sesion iniciada\n"
          ]
        }
      ]
    }
  ]
}