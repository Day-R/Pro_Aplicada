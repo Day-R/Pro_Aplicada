{
  "nbformat": 4,
  "nbformat_minor": 0,
  "metadata": {
    "colab": {
      "provenance": [],
      "collapsed_sections": [],
      "authorship_tag": "ABX9TyNkc5w7V2o7uDkOanFrPiEr",
      "include_colab_link": true
    },
    "kernelspec": {
      "name": "python3",
      "display_name": "Python 3"
    },
    "language_info": {
      "name": "python"
    }
  },
  "cells": [
    {
      "cell_type": "markdown",
      "metadata": {
        "id": "view-in-github",
        "colab_type": "text"
      },
      "source": [
        "<a href=\"https://colab.research.google.com/github/Day-R/Pro_Aplicada/blob/main/practicas.ipynb\" target=\"_parent\"><img src=\"https://colab.research.google.com/assets/colab-badge.svg\" alt=\"Open In Colab\"/></a>"
      ]
    },
    {
      "cell_type": "code",
      "execution_count": null,
      "metadata": {
        "id": "rqcGhcOXNggy"
      },
      "outputs": [],
      "source": [
        "                                        \n",
        "n_materias=int(input('Inscribe el numero de materias: ' ))\n",
        "ls_materia=[]\n",
        "\n",
        "for i in range(n_materias):\n",
        "\n",
        " Materias=input('Ingrese las materias '+ str(i+1)+': ')\n",
        " ls_materia.append(Materias)\n",
        "\n",
        "print(ls_materia)"
      ]
    },
    {
      "cell_type": "code",
      "source": [],
      "metadata": {
        "id": "IscbiDxQRsOm"
      },
      "execution_count": null,
      "outputs": []
    },
    {
      "cell_type": "code",
      "source": [
        "Notas_1ercorte=[]\n",
        "\n",
        "for i in range(len(ls_materia)):\n",
        " while True:\n",
        "  Nota=float(input('Ingrese la nota final '+ls_materia[i]+': '))\n",
        "\n",
        "  if Nota>5 or Nota <0:\n",
        "    print('intente de nuevo')\n",
        "  else: \n",
        "    Notas_1ercorte.append(Nota)\n",
        "    break\n",
        "    print(Notas_1ercorte)"
      ],
      "metadata": {
        "id": "wE9T9Xt3d_bc"
      },
      "execution_count": null,
      "outputs": []
    },
    {
      "cell_type": "code",
      "source": [
        " Aprobo=[]\n",
        " Reprobo=[]\n",
        "\n",
        " for i in range(len(ls_materia)):\n",
        "\n",
        "  if Notas_1ercorte[i]<3:\n",
        "    Reprobo.append(ls_materia[i])\n",
        "  else:\n",
        "    Aprobo.append(ls_materia[i])\n",
        "\n",
        " print('materias aprobadas ', Aprobo)\n",
        " print('materias reprobadas ', Reprobo)"
      ],
      "metadata": {
        "id": "_-sselyBmPDR"
      },
      "execution_count": null,
      "outputs": []
    },
    {
      "cell_type": "code",
      "source": [
        "Palabra= input(\" Ingrese Una frase o una palabra \")\n",
        "Palabra=Palabra.lower()\n",
        "Palabra=Palabra.replace(' ','')\n",
        "Palabralist=list(Palabra)\n",
        "Palabralist2=Palabralist.copy()\n",
        "Palabralist2.reverse()\n",
        "print(Palabralist)\n",
        "print(Palabralist2)\n",
        "\n",
        "if Palabralist == Palabralist2:\n",
        "   print(\" Es Palindromo\")\n",
        "else:\n",
        "   print(\"No es Palindromo\")\n",
        " "
      ],
      "metadata": {
        "id": "mAi3A0FMKR5-"
      },
      "execution_count": null,
      "outputs": []
    },
    {
      "cell_type": "code",
      "source": [
        "import numpy as np\n",
        "\n",
        "\n",
        "v1str=input( \"Ingrese vector 1 separados por coma(,)\")\n",
        "v1=v1str.split(',')\n",
        "v1=[float(element)for element in v1]\n",
        "\n",
        "print(v1)\n",
        "\n",
        "v2str=input( \"Ingrese vector 2 separados por coma(,)\")\n",
        "v2=v2str.split(',')\n",
        "v2=[float(element)for element in v2]\n",
        "\n",
        "print(v2)\n",
        "\n",
        "res=np.dot(v1,v2)\n",
        "\n",
        "print(res)\n"
      ],
      "metadata": {
        "id": "EkL7g-2xNQNR"
      },
      "execution_count": null,
      "outputs": []
    },
    {
      "cell_type": "code",
      "source": [
        "import numpy as np\n",
        "\n",
        "num_list=[]\n",
        "\n",
        "while True:\n",
        "\n",
        " num=input(\"ingrese numeros o fin \" )\n",
        " \n",
        " if num.lower() ==\"fin\":\n",
        "\n",
        "  break\n",
        "\n",
        " else:\n",
        "\n",
        "  num_list.append(float(num)) \n",
        "\n",
        "media=np.mean(num_list)\n",
        "desv=np.std(num_list)\n",
        "\n",
        "print(\"Media\", media)\n",
        "print(\"Desviacion\", desv)"
      ],
      "metadata": {
        "colab": {
          "base_uri": "https://localhost:8080/"
        },
        "id": "t0oIXCVWXtkz",
        "outputId": "4a9e431c-1ce0-454a-c6d8-939731958154"
      },
      "execution_count": null,
      "outputs": [
        {
          "output_type": "stream",
          "name": "stdout",
          "text": [
            "ingrese numeros o fin 4\n",
            "ingrese numeros o fin 5\n",
            "ingrese numeros o fin 6\n",
            "ingrese numeros o fin 7\n",
            "ingrese numeros o fin fin\n",
            "Media 5.5\n",
            "Desviacion 1.118033988749895\n"
          ]
        }
      ]
    },
    {
      "cell_type": "code",
      "source": [
        "\n",
        "Monedas=[100000,50000,20000,10000,5000,2000,1000,500,200,100,50]\n",
        "\n",
        "Precio=int(input(\"Ingrese costo del producto: \" ))\n",
        "\n",
        "while True:\n",
        "\n",
        "  Pago=int(input(\"Ingrese dinero recibido: \" ))\n",
        "   \n",
        "  if  Pago < Precio:  \n",
        "        print(\"Saldo insuficiente\")\n",
        "\n",
        "  else:\n",
        "    Cambio=(Pago-Precio)\n",
        "    break\n",
        "\n",
        "for Moneda in Monedas:\n",
        "  Cantidad=Cambio//Moneda\n",
        "  Cambio=Cambio%Moneda\n",
        "  if Cantidad>0:\n",
        "    \n",
        "    print(Cantidad, \"de\", Moneda)\n",
        "\n",
        "\n",
        "     \n",
        "\n",
        "\n",
        "\n",
        "\n"
      ],
      "metadata": {
        "id": "SLfITEpFaL7e",
        "colab": {
          "base_uri": "https://localhost:8080/"
        },
        "outputId": "df87505e-2ab1-4d51-9dc5-ebbac51e8faa"
      },
      "execution_count": null,
      "outputs": [
        {
          "output_type": "stream",
          "name": "stdout",
          "text": [
            "Ingrese costo del producto: 2000\n",
            "Ingrese dinero recibido: 1000\n",
            "Saldo insuficiente\n"
          ]
        }
      ]
    }
  ]
}